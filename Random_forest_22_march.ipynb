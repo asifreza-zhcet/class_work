{
 "cells": [
  {
   "cell_type": "markdown",
   "id": "197617a6",
   "metadata": {},
   "source": [
    "#  Random Forest 22 March"
   ]
  },
  {
   "cell_type": "markdown",
   "id": "09752c82",
   "metadata": {},
   "source": [
    "## Importing libraries"
   ]
  },
  {
   "cell_type": "code",
   "execution_count": 1,
   "id": "e4985d01",
   "metadata": {},
   "outputs": [],
   "source": [
    "import numpy as np\n",
    "import pandas as pd\n",
    "import matplotlib.pyplot as plt\n",
    "import warnings\n",
    "\n",
    "warnings.filterwarnings(\"ignore\")"
   ]
  },
  {
   "cell_type": "markdown",
   "id": "8b0d1f4f",
   "metadata": {},
   "source": [
    "## Reading the data"
   ]
  },
  {
   "cell_type": "code",
   "execution_count": 8,
   "id": "e93c8431",
   "metadata": {},
   "outputs": [
    {
     "data": {
      "text/html": [
       "<div>\n",
       "<style scoped>\n",
       "    .dataframe tbody tr th:only-of-type {\n",
       "        vertical-align: middle;\n",
       "    }\n",
       "\n",
       "    .dataframe tbody tr th {\n",
       "        vertical-align: top;\n",
       "    }\n",
       "\n",
       "    .dataframe thead th {\n",
       "        text-align: right;\n",
       "    }\n",
       "</style>\n",
       "<table border=\"1\" class=\"dataframe\">\n",
       "  <thead>\n",
       "    <tr style=\"text-align: right;\">\n",
       "      <th></th>\n",
       "      <th>User ID</th>\n",
       "      <th>Gender</th>\n",
       "      <th>Age</th>\n",
       "      <th>EstimatedSalary</th>\n",
       "      <th>Purchased</th>\n",
       "    </tr>\n",
       "  </thead>\n",
       "  <tbody>\n",
       "    <tr>\n",
       "      <th>0</th>\n",
       "      <td>15624510</td>\n",
       "      <td>Male</td>\n",
       "      <td>19</td>\n",
       "      <td>19000</td>\n",
       "      <td>0</td>\n",
       "    </tr>\n",
       "    <tr>\n",
       "      <th>1</th>\n",
       "      <td>15810944</td>\n",
       "      <td>Male</td>\n",
       "      <td>35</td>\n",
       "      <td>20000</td>\n",
       "      <td>0</td>\n",
       "    </tr>\n",
       "    <tr>\n",
       "      <th>2</th>\n",
       "      <td>15668575</td>\n",
       "      <td>Female</td>\n",
       "      <td>26</td>\n",
       "      <td>43000</td>\n",
       "      <td>0</td>\n",
       "    </tr>\n",
       "    <tr>\n",
       "      <th>3</th>\n",
       "      <td>15603246</td>\n",
       "      <td>Female</td>\n",
       "      <td>27</td>\n",
       "      <td>57000</td>\n",
       "      <td>0</td>\n",
       "    </tr>\n",
       "    <tr>\n",
       "      <th>4</th>\n",
       "      <td>15804002</td>\n",
       "      <td>Male</td>\n",
       "      <td>19</td>\n",
       "      <td>76000</td>\n",
       "      <td>0</td>\n",
       "    </tr>\n",
       "  </tbody>\n",
       "</table>\n",
       "</div>"
      ],
      "text/plain": [
       "    User ID  Gender  Age  EstimatedSalary  Purchased\n",
       "0  15624510    Male   19            19000          0\n",
       "1  15810944    Male   35            20000          0\n",
       "2  15668575  Female   26            43000          0\n",
       "3  15603246  Female   27            57000          0\n",
       "4  15804002    Male   19            76000          0"
      ]
     },
     "execution_count": 8,
     "metadata": {},
     "output_type": "execute_result"
    }
   ],
   "source": [
    "df = pd.read_csv(r\"C:\\Users\\rezaa\\Videos\\Captures\\11.Machine Learning\\2.Classification\\22nd, - ensamble\\5. RANDOM FOREST\\Social_Network_Ads.csv\")\n",
    "\n",
    "X = df.iloc[:,2:4].values\n",
    "y = df.iloc[:,-1].values\n",
    "df.head()"
   ]
  },
  {
   "cell_type": "markdown",
   "id": "0af862d1",
   "metadata": {},
   "source": [
    "## Spliting and standerization of data"
   ]
  },
  {
   "cell_type": "code",
   "execution_count": 3,
   "id": "554e0cb9",
   "metadata": {},
   "outputs": [],
   "source": [
    "from sklearn.model_selection import train_test_split\n",
    "X_train, X_test, y_train, y_test = train_test_split(X,y,test_size=.2,random_state=0)\n",
    "\n",
    "from sklearn.preprocessing import StandardScaler\n",
    "sc = StandardScaler()\n",
    "X_train = sc.fit_transform(X_train)\n",
    "X_test = sc.transform(X_test)"
   ]
  },
  {
   "cell_type": "markdown",
   "id": "a5be9097",
   "metadata": {},
   "source": [
    "## Trainning the model"
   ]
  },
  {
   "cell_type": "code",
   "execution_count": 7,
   "id": "ffc544a3",
   "metadata": {},
   "outputs": [],
   "source": [
    "from sklearn.ensemble import RandomForestClassifier\n",
    "model_RF = RandomForestClassifier(n_estimators=100,max_samples=.8,max_depth=7)\n",
    "model_RF.fit(X_train, y_train);"
   ]
  },
  {
   "cell_type": "markdown",
   "id": "79dfe7b0",
   "metadata": {},
   "source": [
    "## Accuracy and confusion metrix"
   ]
  },
  {
   "cell_type": "code",
   "execution_count": 5,
   "id": "2f056069",
   "metadata": {},
   "outputs": [
    {
     "name": "stdout",
     "output_type": "stream",
     "text": [
      "Bias = 0.95\n",
      "Variance = 0.95\n",
      "[[55  3]\n",
      " [ 1 21]]\n"
     ]
    }
   ],
   "source": [
    "y_pred_train = model_RF.predict(X_train)\n",
    "y_pred_test = model_RF.predict(X_test)\n",
    "\n",
    "from sklearn.metrics import accuracy_score, confusion_matrix\n",
    "print(f'Bias = {accuracy_score(y_train, y_pred_train)}')\n",
    "print(f'Variance = {accuracy_score(y_test, y_pred_test)}')\n",
    "print(confusion_matrix(y_test, y_pred_test))"
   ]
  },
  {
   "cell_type": "markdown",
   "id": "56629af9",
   "metadata": {},
   "source": [
    "## Ploting the classifiaction"
   ]
  },
  {
   "cell_type": "code",
   "execution_count": 6,
   "id": "b699fe93",
   "metadata": {},
   "outputs": [
    {
     "data": {
      "image/png": "[encoded data removed]",
      "text/plain": [
       "<Figure size 640x480 with 1 Axes>"
      ]
     },
     "metadata": {},
     "output_type": "display_data"
    }
   ],
   "source": [
    "a = np.linspace(np.min(X_train[:,0]),np.max(X_train[:,0]),100)\n",
    "b = np.linspace(np.min(X_train[:,1]),np.max(X_train[:,1]),100)\n",
    "aa, bb = np.meshgrid(a,b)\n",
    "z = model_RF.predict(np.array([aa.ravel(),bb.ravel()]).transpose()).reshape(len(a),len(b))\n",
    "plt.contourf(aa,bb,z,levels=1,cmap='viridis',alpha=.4)\n",
    "plt.scatter(X_test[:,0],X_test[:,1],c=y_test,cmap='viridis')\n",
    "plt.show()"
   ]
  }
 ],
 "metadata": {
  "kernelspec": {
   "display_name": "Python 3 (ipykernel)",
   "language": "python",
   "name": "python3"
  },
  "language_info": {
   "codemirror_mode": {
    "name": "ipython",
    "version": 3
   },
   "file_extension": ".py",
   "mimetype": "text/x-python",
   "name": "python",
   "nbconvert_exporter": "python",
   "pygments_lexer": "ipython3",
   "version": "3.11.5"
  }
 },
 "nbformat": 4,
 "nbformat_minor": 5
}
